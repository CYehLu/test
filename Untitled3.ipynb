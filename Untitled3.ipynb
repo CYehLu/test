{
 "cells": [
  {
   "cell_type": "code",
   "execution_count": 1,
   "metadata": {},
   "outputs": [],
   "source": [
    "import pandas as pd"
   ]
  },
  {
   "cell_type": "code",
   "execution_count": 8,
   "metadata": {},
   "outputs": [
    {
     "data": {
      "text/html": [
       "<div>\n",
       "<style>\n",
       "    .dataframe thead tr:only-child th {\n",
       "        text-align: right;\n",
       "    }\n",
       "\n",
       "    .dataframe thead th {\n",
       "        text-align: left;\n",
       "    }\n",
       "\n",
       "    .dataframe tbody tr th {\n",
       "        vertical-align: top;\n",
       "    }\n",
       "</style>\n",
       "<table border=\"1\" class=\"dataframe\">\n",
       "  <thead>\n",
       "    <tr style=\"text-align: right;\">\n",
       "      <th></th>\n",
       "      <th>0</th>\n",
       "      <th>1</th>\n",
       "      <th>2</th>\n",
       "      <th>3</th>\n",
       "      <th>4</th>\n",
       "      <th>5</th>\n",
       "      <th>6</th>\n",
       "      <th>7</th>\n",
       "      <th>8</th>\n",
       "    </tr>\n",
       "  </thead>\n",
       "  <tbody>\n",
       "    <tr>\n",
       "      <th>0</th>\n",
       "      <td>期別</td>\n",
       "      <td>2018.3Q</td>\n",
       "      <td>2018.2Q</td>\n",
       "      <td>2018.1Q</td>\n",
       "      <td>2017.4Q</td>\n",
       "      <td>2017.3Q</td>\n",
       "      <td>2017.2Q</td>\n",
       "      <td>2017.1Q</td>\n",
       "      <td>2016.4Q</td>\n",
       "    </tr>\n",
       "    <tr>\n",
       "      <th>1</th>\n",
       "      <td>種類</td>\n",
       "      <td>合併</td>\n",
       "      <td>合併</td>\n",
       "      <td>合併</td>\n",
       "      <td>合併</td>\n",
       "      <td>合併</td>\n",
       "      <td>合併</td>\n",
       "      <td>合併</td>\n",
       "      <td>合併</td>\n",
       "    </tr>\n",
       "    <tr>\n",
       "      <th>2</th>\n",
       "      <td>營業收入毛額</td>\n",
       "      <td>5314</td>\n",
       "      <td>4253</td>\n",
       "      <td>3851</td>\n",
       "      <td>4876</td>\n",
       "      <td>6127</td>\n",
       "      <td>3744</td>\n",
       "      <td>3680</td>\n",
       "      <td>4872</td>\n",
       "    </tr>\n",
       "    <tr>\n",
       "      <th>3</th>\n",
       "      <td>營業收入淨額</td>\n",
       "      <td>5314</td>\n",
       "      <td>4253</td>\n",
       "      <td>3851</td>\n",
       "      <td>4876</td>\n",
       "      <td>6127</td>\n",
       "      <td>3744</td>\n",
       "      <td>3680</td>\n",
       "      <td>4872</td>\n",
       "    </tr>\n",
       "    <tr>\n",
       "      <th>4</th>\n",
       "      <td>銷貨成本</td>\n",
       "      <td>3587</td>\n",
       "      <td>3259</td>\n",
       "      <td>3011</td>\n",
       "      <td>3523</td>\n",
       "      <td>4384</td>\n",
       "      <td>3081</td>\n",
       "      <td>2958</td>\n",
       "      <td>3680</td>\n",
       "    </tr>\n",
       "  </tbody>\n",
       "</table>\n",
       "</div>"
      ],
      "text/plain": [
       "         0        1        2        3        4        5        6        7  \\\n",
       "0       期別  2018.3Q  2018.2Q  2018.1Q  2017.4Q  2017.3Q  2017.2Q  2017.1Q   \n",
       "1       種類       合併       合併       合併       合併       合併       合併       合併   \n",
       "2  　營業收入毛額     5314     4253     3851     4876     6127     3744     3680   \n",
       "3   營業收入淨額     5314     4253     3851     4876     6127     3744     3680   \n",
       "4    　銷貨成本     3587     3259     3011     3523     4384     3081     2958   \n",
       "\n",
       "         8  \n",
       "0  2016.4Q  \n",
       "1       合併  \n",
       "2     4872  \n",
       "3     4872  \n",
       "4     3680  "
      ]
     },
     "execution_count": 8,
     "metadata": {},
     "output_type": "execute_result"
    }
   ],
   "source": [
    "df = pd.read_excel('tt.xlsx', header=None)\n",
    "df.head()"
   ]
  },
  {
   "cell_type": "code",
   "execution_count": 21,
   "metadata": {},
   "outputs": [
    {
     "data": {
      "text/html": [
       "<div>\n",
       "<style>\n",
       "    .dataframe thead tr:only-child th {\n",
       "        text-align: right;\n",
       "    }\n",
       "\n",
       "    .dataframe thead th {\n",
       "        text-align: left;\n",
       "    }\n",
       "\n",
       "    .dataframe tbody tr th {\n",
       "        vertical-align: top;\n",
       "    }\n",
       "</style>\n",
       "<table border=\"1\" class=\"dataframe\">\n",
       "  <thead>\n",
       "    <tr style=\"text-align: right;\">\n",
       "      <th></th>\n",
       "      <th>1</th>\n",
       "      <th>2</th>\n",
       "      <th>3</th>\n",
       "      <th>4</th>\n",
       "      <th>5</th>\n",
       "      <th>6</th>\n",
       "      <th>7</th>\n",
       "      <th>8</th>\n",
       "      <th>9</th>\n",
       "      <th>10</th>\n",
       "      <th>...</th>\n",
       "      <th>98</th>\n",
       "      <th>99</th>\n",
       "      <th>100</th>\n",
       "      <th>101</th>\n",
       "      <th>102</th>\n",
       "      <th>103</th>\n",
       "      <th>104</th>\n",
       "      <th>105</th>\n",
       "      <th>106</th>\n",
       "      <th>107</th>\n",
       "    </tr>\n",
       "  </thead>\n",
       "  <tbody>\n",
       "    <tr>\n",
       "      <th>1</th>\n",
       "      <td>2018.3Q</td>\n",
       "      <td>合併</td>\n",
       "      <td>5314</td>\n",
       "      <td>5314</td>\n",
       "      <td>3587</td>\n",
       "      <td>3587</td>\n",
       "      <td>1728</td>\n",
       "      <td>0</td>\n",
       "      <td>1728</td>\n",
       "      <td>462</td>\n",
       "      <td>...</td>\n",
       "      <td>0</td>\n",
       "      <td>4.17</td>\n",
       "      <td>650</td>\n",
       "      <td>0</td>\n",
       "      <td>945</td>\n",
       "      <td>0</td>\n",
       "      <td>0</td>\n",
       "      <td>0</td>\n",
       "      <td>1323</td>\n",
       "      <td>1944</td>\n",
       "    </tr>\n",
       "  </tbody>\n",
       "</table>\n",
       "<p>1 rows × 107 columns</p>\n",
       "</div>"
      ],
      "text/plain": [
       "       1   2     3     4     5     6     7   8     9    10   ...  98    99   \\\n",
       "1  2018.3Q  合併  5314  5314  3587  3587  1728   0  1728  462  ...    0  4.17   \n",
       "\n",
       "   100 101  102 103 104 105   106   107  \n",
       "1  650   0  945   0   0   0  1323  1944  \n",
       "\n",
       "[1 rows x 107 columns]"
      ]
     },
     "execution_count": 21,
     "metadata": {},
     "output_type": "execute_result"
    }
   ],
   "source": [
    "ser = df.iloc[:, 1]\n",
    "df5 = pd.DataFrame(ser).T\n",
    "df5.columns = range(1, len(ser)+1)\n",
    "df5"
   ]
  },
  {
   "cell_type": "code",
   "execution_count": 22,
   "metadata": {},
   "outputs": [
    {
     "data": {
      "text/plain": [
       "1    0.325179\n",
       "dtype: object"
      ]
     },
     "execution_count": 22,
     "metadata": {},
     "output_type": "execute_result"
    }
   ],
   "source": [
    "df5[7] / df5[3]"
   ]
  }
 ],
 "metadata": {
  "kernelspec": {
   "display_name": "Python 3",
   "language": "python",
   "name": "python3"
  },
  "language_info": {
   "codemirror_mode": {
    "name": "ipython",
    "version": 3
   },
   "file_extension": ".py",
   "mimetype": "text/x-python",
   "name": "python",
   "nbconvert_exporter": "python",
   "pygments_lexer": "ipython3",
   "version": "3.6.3"
  }
 },
 "nbformat": 4,
 "nbformat_minor": 2
}
