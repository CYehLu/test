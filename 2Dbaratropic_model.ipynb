{
 "cells": [
  {
   "cell_type": "code",
   "execution_count": 47,
   "metadata": {},
   "outputs": [],
   "source": [
    "%matplotlib inline\n",
    "import warnings\n",
    "\n",
    "import numpy as np\n",
    "import matplotlib.pyplot as plt\n",
    "from scipy.io import netcdf"
   ]
  },
  {
   "cell_type": "code",
   "execution_count": 25,
   "metadata": {},
   "outputs": [],
   "source": [
    "def stfunc_to_vorticity(psi, dx, dy):\n",
    "    \"\"\"\n",
    "    stfunc = stream function\n",
    "    \n",
    "    Parameter:\n",
    "    ---------\n",
    "    psi: 2d-array, shape=(ny, nx)\n",
    "        Stream Function.\n",
    "    dx, dy: int or float\n",
    "        The horizontal resolution.\n",
    "    \n",
    "    Return:\n",
    "    ------\n",
    "    Vorticity field.\n",
    "    \"\"\"\n",
    "    ny, nx = psi.shape\n",
    "    vorticity = np.zeros((nx, ny))\n",
    "    for j in range(1, ny-1):\n",
    "        for i in range(1, nx-1):\n",
    "            vorticity[j,i] = ( (psi[j,i+1] - 2*psi[j,i] + psi[j,i-1]) / dx**2   \n",
    "                               + (psi[j+1,i] - 2*psi[j,i] + psi[j-1,i]) / dy**2 )\n",
    "    vorticity[0,:] = vorticity[1,:]\n",
    "    vorticity[-1,:] = vorticity[-2,:]\n",
    "    vorticity[:,0] = vorticity[:,1]\n",
    "    vorticity[:,-1] = vorticity[:,-2]\n",
    "    return vorticity"
   ]
  },
  {
   "cell_type": "code",
   "execution_count": 45,
   "metadata": {},
   "outputs": [],
   "source": [
    "def laplace_relaxation(Z_init, Y, dx, dy, alpha=0.5, epsilon=0.02, max_iter=500):\n",
    "    \"\"\"\n",
    "    Given Y, solve Z which satisfy Laplacian(Z)=Y.\n",
    "    The boundary of Z would be set to 0.\n",
    "    \"\"\"\n",
    "    Z = Z_init\n",
    "    ny, nx = Z.shape\n",
    "    residual = np.zeros((ny, nx))\n",
    "    \n",
    "    n_iter = 0\n",
    "    while True:\n",
    "        for j in range(1, ny-1):\n",
    "            for i in range(1, nx-1):\n",
    "                residual[j,i] = ( (Z[j,i+1] - 2*Z[j,i] + Z[j,i-1]) / dx**2\n",
    "                                  + (Z[j+1,i] - 2*Z[j,i] + Z[j-1,i]) / dy**2 \n",
    "                                  - Y[j,i] )\n",
    "        dZ = (1+alpha) * residual / (2 * (1/dx**2 + 1/dy**2))\n",
    "        Z += dZ\n",
    "        n_iter += 1\n",
    "        \n",
    "        if np.all(np.abs(dZ) < epsilon):\n",
    "            break\n",
    "        elif n_iter >= max_iter:\n",
    "            warnings.warn('The iteration has not converage.')\n",
    "            break\n",
    "            \n",
    "    return Z"
   ]
  },
  {
   "cell_type": "code",
   "execution_count": 46,
   "metadata": {},
   "outputs": [
    {
     "data": {
      "text/plain": [
       "<matplotlib.colorbar.Colorbar at 0x244efcf9d88>"
      ]
     },
     "execution_count": 46,
     "metadata": {},
     "output_type": "execute_result"
    },
    {
     "data": {
      "image/png": "[encoded data removed]",
      "text/plain": [
       "<Figure size 432x288 with 2 Axes>"
      ]
     },
     "metadata": {
      "needs_background": "light"
     },
     "output_type": "display_data"
    },
    {
     "data": {
      "image/png": "[encoded data removed]",
      "text/plain": [
       "<Figure size 432x288 with 2 Axes>"
      ]
     },
     "metadata": {
      "needs_background": "light"
     },
     "output_type": "display_data"
    }
   ],
   "source": [
    "#http://ammar-hakim.org/sj/je/je1/je1-periodic-poisson.html\n",
    "X, Y = np.meshgrid(np.arange(-1, 1, 0.1), np.arange(-1, 1, 0.1))\n",
    "s = np.exp(-10 * X**2 - 10 *Y**2)\n",
    "plt.contourf(X, Y, s)\n",
    "plt.colorbar()\n",
    "\n",
    "plt.figure()\n",
    "Z_init = np.zeros_like(X)\n",
    "res = laplace_relaxation(Z_init, s, 0.1, 0.1)\n",
    "plt.contourf(X, Y, res, levels=20)\n",
    "plt.colorbar()"
   ]
  },
  {
   "cell_type": "code",
   "execution_count": null,
   "metadata": {},
   "outputs": [],
   "source": []
  },
  {
   "cell_type": "code",
   "execution_count": 59,
   "metadata": {},
   "outputs": [
    {
     "data": {
      "text/plain": [
       "<xarray.DataArray 'avo' (bottom_top: 29, south_north: 66, west_east: 81)>\n",
       "array([[[ 0.095045,  0.312881, ...,  1.429038,  1.072809],\n",
       "        [ 0.047859,  0.531562, ...,  1.789513,  1.499402],\n",
       "        ...,\n",
       "        [ 8.624277,  8.537292, ...,  7.239637,  7.54183 ],\n",
       "        [ 8.349417,  8.318874, ...,  9.044927,  9.25679 ]],\n",
       "\n",
       "       [[ 0.021843,  0.290727, ...,  1.379476,  1.027457],\n",
       "        [-0.048493,  0.454885, ...,  1.769359,  1.481609],\n",
       "        ...,\n",
       "        [ 8.505307,  8.662426, ...,  7.196579,  7.512532],\n",
       "        [ 8.358203,  7.703104, ...,  9.049578,  9.288332]],\n",
       "\n",
       "       ...,\n",
       "\n",
       "       [[ 3.011521,  2.997144, ...,  2.320389,  2.40574 ],\n",
       "        [ 3.190784,  3.187672, ...,  2.567078,  2.698341],\n",
       "        ...,\n",
       "        [ 6.738665,  6.615805, ...,  6.922763,  6.866424],\n",
       "        [ 6.737563,  6.602931, ...,  6.969905,  6.963854]],\n",
       "\n",
       "       [[ 3.277555,  3.289101, ...,  2.622591,  2.659787],\n",
       "        [ 3.421454,  3.443614, ...,  2.99479 ,  3.033261],\n",
       "        ...,\n",
       "        [ 6.83292 ,  6.757597, ...,  6.989739,  6.946522],\n",
       "        [ 6.841019,  6.779555, ...,  7.053426,  7.038523]]], dtype=float32)\n",
       "Coordinates:\n",
       "    XLONG    (south_north, west_east) >f4 103.999664 104.39731 ... 138.93185\n",
       "    XLAT     (south_north, west_east) >f4 7.1256485 7.1630096 ... 33.16515\n",
       "    Time     datetime64[ns] 2017-08-21\n",
       "Dimensions without coordinates: bottom_top, south_north, west_east\n",
       "Attributes:\n",
       "    FieldType:    104\n",
       "    MemoryOrder:  XYZ\n",
       "    description:  absolute vorticity\n",
       "    units:        10-5 s-1\n",
       "    stagger:      \n",
       "    coordinates:  XLONG XLAT\n",
       "    projection:   LambertConformal(stand_lon=120.0, moad_cen_lat=21.000015258..."
      ]
     },
     "execution_count": 59,
     "metadata": {},
     "output_type": "execute_result"
    }
   ],
   "source": [
    "import wrf\n",
    "\n",
    "f = netcdf.netcdf_file('../MY_WRF_test/wrfout_d01_2017-08-21_00_00_00')\n",
    "lat = f.variables['XLAT'].data\n",
    "lon = f.variables['XLONG'].data\n",
    "f.variables.keys()\n",
    "\n",
    "wrf.getvar(f, 'avo')"
   ]
  },
  {
   "cell_type": "code",
   "execution_count": 72,
   "metadata": {},
   "outputs": [
    {
     "data": {
      "text/plain": [
       "['FNM', 'FNP', 'F']"
      ]
     },
     "execution_count": 72,
     "metadata": {},
     "output_type": "execute_result"
    }
   ],
   "source": [
    "[k for k in f.variables.keys() if k.startswith('F')]"
   ]
  },
  {
   "cell_type": "code",
   "execution_count": null,
   "metadata": {},
   "outputs": [],
   "source": []
  },
  {
   "cell_type": "code",
   "execution_count": null,
   "metadata": {},
   "outputs": [],
   "source": []
  },
  {
   "cell_type": "code",
   "execution_count": 26,
   "metadata": {},
   "outputs": [
    {
     "name": "stdout",
     "output_type": "stream",
     "text": [
      "Please wait for a moment\n",
      "Iteration finished\n"
     ]
    },
    {
     "data": {
      "text/plain": [
       "<matplotlib.colorbar.Colorbar at 0x244eeece648>"
      ]
     },
     "execution_count": 26,
     "metadata": {},
     "output_type": "execute_result"
    },
    {
     "data": {
      "image/png": "[encoded data removed]",
      "text/plain": [
       "<Figure size 432x288 with 2 Axes>"
      ]
     },
     "metadata": {
      "needs_background": "light"
     },
     "output_type": "display_data"
    }
   ],
   "source": [
    "# Set maximum iteration\n",
    "maxIter = 500\n",
    "\n",
    "# Set Dimension and delta\n",
    "lenX = lenY = 20 #we set it rectangular\n",
    "delta = 1\n",
    "\n",
    "# Boundary condition\n",
    "Ttop = 100\n",
    "Tbottom = 0\n",
    "Tleft = 0\n",
    "Tright = 30\n",
    "\n",
    "# Initial guess of interior grid\n",
    "Tguess = 30\n",
    "\n",
    "# Set colour interpolation and colour map\n",
    "colorinterpolation = 50\n",
    "colourMap = plt.cm.jet #you can try: colourMap = plt.cm.coolwarm\n",
    "\n",
    "# Set meshgrid\n",
    "X, Y = np.meshgrid(np.arange(0, lenX), np.arange(0, lenY))\n",
    "\n",
    "# Set array size and set the interior value with Tguess\n",
    "T = np.empty((lenX, lenY))\n",
    "T.fill(Tguess)\n",
    "\n",
    "# Set Boundary condition\n",
    "T[(lenY-1):, :] = Ttop\n",
    "T[:1, :] = Tbottom\n",
    "T[:, (lenX-1):] = Tright\n",
    "T[:, :1] = Tleft\n",
    "\n",
    "# Iteration (We assume that the iteration is convergence in maxIter = 500)\n",
    "print(\"Please wait for a moment\")\n",
    "for iteration in range(0, maxIter):\n",
    "    for i in range(1, lenX-1, delta):\n",
    "        for j in range(1, lenY-1, delta):\n",
    "            T[i, j] = 0.25 * (T[i+1][j] + T[i-1][j] + T[i][j+1] + T[i][j-1])\n",
    "\n",
    "print(\"Iteration finished\")\n",
    "\n",
    "# Configure the contour\n",
    "plt.title(\"Contour of Temperature\")\n",
    "plt.contourf(X, Y, T, colorinterpolation, cmap=colourMap)\n",
    "\n",
    "# Set Colorbar\n",
    "plt.colorbar()"
   ]
  },
  {
   "cell_type": "code",
   "execution_count": null,
   "metadata": {},
   "outputs": [],
   "source": []
  }
 ],
 "metadata": {
  "kernelspec": {
   "display_name": "Python 3",
   "language": "python",
   "name": "python3"
  },
  "language_info": {
   "codemirror_mode": {
    "name": "ipython",
    "version": 3
   },
   "file_extension": ".py",
   "mimetype": "text/x-python",
   "name": "python",
   "nbconvert_exporter": "python",
   "pygments_lexer": "ipython3",
   "version": "3.7.4"
  }
 },
 "nbformat": 4,
 "nbformat_minor": 4
}
